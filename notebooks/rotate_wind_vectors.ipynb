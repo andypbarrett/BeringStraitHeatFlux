{
 "cells": [
  {
   "cell_type": "code",
   "execution_count": 1,
   "metadata": {},
   "outputs": [],
   "source": [
    "%matplotlib notebook"
   ]
  },
  {
   "cell_type": "markdown",
   "metadata": {},
   "source": [
    "An example notebook to work out how to rotate wind vectors"
   ]
  },
  {
   "cell_type": "code",
   "execution_count": 4,
   "metadata": {},
   "outputs": [],
   "source": [
    "from affine import Affine\n",
    "import numpy as np"
   ]
  },
  {
   "cell_type": "markdown",
   "metadata": {},
   "source": [
    "As an example I will use assign a wind speed of 10 m/s in a direction of 330 degrees N"
   ]
  },
  {
   "cell_type": "code",
   "execution_count": 17,
   "metadata": {},
   "outputs": [],
   "source": [
    "wspd = 10.\n",
    "wdir = 330."
   ]
  },
  {
   "cell_type": "markdown",
   "metadata": {},
   "source": [
    "Decompose wspd into u and v components\n",
    "\n",
    "$u = w \\sin(\\theta)$,\n",
    "$v = w \\cos(\\theta)$\n"
   ]
  },
  {
   "cell_type": "code",
   "execution_count": 15,
   "metadata": {},
   "outputs": [],
   "source": [
    "def wind2uv(wspd, wdir):\n",
    "    \"\"\"Converts wind speed and direction to component u and v vectors\"\"\"\n",
    "    return wspd*np.sin(np.radians(wdir)), wspd*np.cos(np.radians(wdir))"
   ]
  },
  {
   "cell_type": "code",
   "execution_count": 19,
   "metadata": {},
   "outputs": [
    {
     "name": "stdout",
     "output_type": "stream",
     "text": [
      "-5.000000000000004 8.660254037844384\n"
     ]
    }
   ],
   "source": [
    "u, v = wind2uv(wspd,wdir)\n",
    "print (u, v)"
   ]
  },
  {
   "cell_type": "markdown",
   "metadata": {},
   "source": [
    "The affine module can be used to generate a rotation matrix  "
   ]
  },
  {
   "cell_type": "code",
   "execution_count": 23,
   "metadata": {},
   "outputs": [],
   "source": [
    "fwd = Affine.rotation(330.)"
   ]
  },
  {
   "cell_type": "code",
   "execution_count": 24,
   "metadata": {},
   "outputs": [
    {
     "data": {
      "text/plain": [
       "(0.0, 10.0)"
      ]
     },
     "execution_count": 24,
     "metadata": {},
     "output_type": "execute_result"
    }
   ],
   "source": [
    "fwd*(u,v)"
   ]
  },
  {
   "cell_type": "markdown",
   "metadata": {},
   "source": [
    "## No we are going to use affine with u and v winds from a netcdf file read with xarray"
   ]
  },
  {
   "cell_type": "code",
   "execution_count": 31,
   "metadata": {},
   "outputs": [],
   "source": [
    "import xarray as xr\n",
    "import os\n",
    "\n",
    "reanalysis_diri = '/disks/arctic5_raid/abarrett/MERRA2/monthly'\n",
    "u10m_file = 'MERRA2_400.instM_2d_asm_Nx.U10M.month.1980to2018.nc4'\n",
    "u10m = xr.open_dataset(os.path.join(reanalysis_diri, 'U10M', u10m_file))\n",
    "u10m = u10m['U10M'].loc[dict(time=slice('1990-01-01','2017-12-01'), lat=slice(20,90))]\n",
    "\n",
    "v10m_file = 'MERRA2_400.instM_2d_asm_Nx.V10M.month.1980to2018.nc4'\n",
    "v10m = xr.open_dataset(os.path.join(reanalysis_diri, 'V10M', v10m_file))\n",
    "v10m = v10m['V10M'].loc[dict(time=slice('1990-01-01','2017-12-01'), lat=slice(20,90))]\n"
   ]
  },
  {
   "cell_type": "code",
   "execution_count": 32,
   "metadata": {},
   "outputs": [
    {
     "data": {
      "text/plain": [
       "<xarray.DataArray 'U10M' (time: 336, lat: 141, lon: 576)>\n",
       "[27288576 values with dtype=float32]\n",
       "Coordinates:\n",
       "  * lat      (lat) float64 20.0 20.5 21.0 21.5 22.0 ... 88.0 88.5 89.0 89.5 90.0\n",
       "  * lon      (lon) float64 -180.0 -179.4 -178.8 -178.1 ... 178.1 178.8 179.4\n",
       "  * time     (time) datetime64[ns] 1990-01-01 1990-02-01 ... 2017-12-01\n",
       "Attributes:\n",
       "    long_name:     10-meter_eastward_wind\n",
       "    units:         m s-1\n",
       "    vmax:          999999987000000.0\n",
       "    vmin:          -999999987000000.0\n",
       "    valid_range:   [-9.99999987e+14  9.99999987e+14]\n",
       "    origname:      U10M\n",
       "    fullnamepath:  /U10M"
      ]
     },
     "execution_count": 32,
     "metadata": {},
     "output_type": "execute_result"
    }
   ],
   "source": [
    "u10m"
   ]
  },
  {
   "cell_type": "code",
   "execution_count": 33,
   "metadata": {},
   "outputs": [
    {
     "data": {
      "text/plain": [
       "<xarray.DataArray 'V10M' (time: 336, lat: 141, lon: 576)>\n",
       "[27288576 values with dtype=float32]\n",
       "Coordinates:\n",
       "  * lat      (lat) float64 20.0 20.5 21.0 21.5 22.0 ... 88.0 88.5 89.0 89.5 90.0\n",
       "  * lon      (lon) float64 -180.0 -179.4 -178.8 -178.1 ... 178.1 178.8 179.4\n",
       "  * time     (time) datetime64[ns] 1990-01-01 1990-02-01 ... 2017-12-01\n",
       "Attributes:\n",
       "    long_name:     10-meter_northward_wind\n",
       "    units:         m s-1\n",
       "    vmax:          999999987000000.0\n",
       "    vmin:          -999999987000000.0\n",
       "    valid_range:   [-9.99999987e+14  9.99999987e+14]\n",
       "    origname:      V10M\n",
       "    fullnamepath:  /V10M"
      ]
     },
     "execution_count": 33,
     "metadata": {},
     "output_type": "execute_result"
    }
   ],
   "source": [
    "v10m"
   ]
  },
  {
   "cell_type": "code",
   "execution_count": 34,
   "metadata": {},
   "outputs": [],
   "source": [
    "up, vp = (u10m, v10m) * fwd"
   ]
  },
  {
   "cell_type": "code",
   "execution_count": 35,
   "metadata": {},
   "outputs": [
    {
     "data": {
      "text/plain": [
       "<xarray.DataArray (time: 336, lat: 141, lon: 576)>\n",
       "array([[[-8.065928, -8.04407 , ..., -8.072546, -8.087511],\n",
       "        [-7.903072, -7.873876, ..., -7.889321, -7.923491],\n",
       "        ...,\n",
       "        [ 1.769324,  1.72344 , ...,  1.860706,  1.815085],\n",
       "        [ 1.741172,  1.695189, ...,  1.832649,  1.786993]],\n",
       "\n",
       "       [[-6.137369, -6.020947, ..., -6.44834 , -6.266121],\n",
       "        [-6.026917, -5.937366, ..., -6.441827, -6.188587],\n",
       "        ...,\n",
       "        [ 3.019053,  3.011831, ...,  3.033182,  3.026164],\n",
       "        [ 2.792179,  2.790112, ...,  2.795947,  2.794117]],\n",
       "\n",
       "       ...,\n",
       "\n",
       "       [[-4.660855, -4.809069, ..., -4.473278, -4.55364 ],\n",
       "        [-4.493561, -4.634168, ..., -4.262774, -4.377535],\n",
       "        ...,\n",
       "        [ 0.723159,  0.720448, ...,  0.72866 ,  0.725898],\n",
       "        [ 0.997273,  0.994264, ...,  1.00323 ,  1.000269]],\n",
       "\n",
       "       [[-7.630929, -7.589479, ..., -7.67126 , -7.664038],\n",
       "        [-7.399117, -7.32967 , ..., -7.433723, -7.436242],\n",
       "        ...,\n",
       "        [ 3.266579,  3.236442, ...,  3.326362,  3.296537],\n",
       "        [ 3.401765,  3.373159, ...,  3.458621,  3.430303]]], dtype=float32)\n",
       "Coordinates:\n",
       "  * lat      (lat) float64 20.0 20.5 21.0 21.5 22.0 ... 88.0 88.5 89.0 89.5 90.0\n",
       "  * lon      (lon) float64 -180.0 -179.4 -178.8 -178.1 ... 178.1 178.8 179.4\n",
       "  * time     (time) datetime64[ns] 1990-01-01 1990-02-01 ... 2017-12-01"
      ]
     },
     "execution_count": 35,
     "metadata": {},
     "output_type": "execute_result"
    }
   ],
   "source": [
    "up"
   ]
  },
  {
   "cell_type": "code",
   "execution_count": 36,
   "metadata": {},
   "outputs": [
    {
     "data": {
      "text/plain": [
       "<xarray.DataArray (time: 336, lat: 141, lon: 576)>\n",
       "array([[[ 1.132256,  1.093996, ...,  1.270041,  1.200096],\n",
       "        [ 1.113208,  1.059673, ...,  1.288982,  1.20471 ],\n",
       "        ...,\n",
       "        [-3.801425, -3.831939, ..., -3.740271, -3.770851],\n",
       "        [-3.781321, -3.813172, ..., -3.717491, -3.749451]],\n",
       "\n",
       "       [[ 1.632142,  1.700776, ...,  1.435911,  1.542383],\n",
       "        [ 1.458897,  1.496483, ...,  1.20039 ,  1.336325],\n",
       "        ...,\n",
       "        [-0.890795, -0.930055, ..., -0.812414, -0.851606],\n",
       "        [-0.775551, -0.816368, ..., -0.694094, -0.734767]],\n",
       "\n",
       "       ...,\n",
       "\n",
       "       [[ 1.998109,  2.17285 , ...,  1.629688,  1.781013],\n",
       "        [ 2.025218,  2.188692, ...,  1.665075,  1.826649],\n",
       "        ...,\n",
       "        [-0.307666, -0.321947, ..., -0.279273, -0.293464],\n",
       "        [-0.378913, -0.393507, ..., -0.349917, -0.364405]],\n",
       "\n",
       "       [[ 1.46104 ,  1.420617, ...,  1.576159,  1.520113],\n",
       "        [ 1.399089,  1.331396, ...,  1.575477,  1.491736],\n",
       "        ...,\n",
       "        [-2.819015, -2.872485, ..., -2.712118, -2.765563],\n",
       "        [-2.781065, -2.833083, ..., -2.677213, -2.729151]]], dtype=float32)\n",
       "Coordinates:\n",
       "  * lat      (lat) float64 20.0 20.5 21.0 21.5 22.0 ... 88.0 88.5 89.0 89.5 90.0\n",
       "  * lon      (lon) float64 -180.0 -179.4 -178.8 -178.1 ... 178.1 178.8 179.4\n",
       "  * time     (time) datetime64[ns] 1990-01-01 1990-02-01 ... 2017-12-01"
      ]
     },
     "execution_count": 36,
     "metadata": {},
     "output_type": "execute_result"
    }
   ],
   "source": [
    "vp"
   ]
  },
  {
   "cell_type": "code",
   "execution_count": 39,
   "metadata": {},
   "outputs": [
    {
     "name": "stdout",
     "output_type": "stream",
     "text": [
      "-7.551427 -3.0524015\n"
     ]
    }
   ],
   "source": [
    "u, v = u10m.values[0,0,0], v10m.values[0,0,0]\n",
    "print (u, v)"
   ]
  },
  {
   "cell_type": "code",
   "execution_count": 40,
   "metadata": {},
   "outputs": [
    {
     "data": {
      "text/plain": [
       "(-8.065928290738212, 1.1322561652586427)"
      ]
     },
     "execution_count": 40,
     "metadata": {},
     "output_type": "execute_result"
    }
   ],
   "source": [
    "(u, v)*fwd"
   ]
  },
  {
   "cell_type": "code",
   "execution_count": null,
   "metadata": {},
   "outputs": [],
   "source": []
  }
 ],
 "metadata": {
  "kernelspec": {
   "display_name": "Python 3",
   "language": "python",
   "name": "python3"
  },
  "language_info": {
   "codemirror_mode": {
    "name": "ipython",
    "version": 3
   },
   "file_extension": ".py",
   "mimetype": "text/x-python",
   "name": "python",
   "nbconvert_exporter": "python",
   "pygments_lexer": "ipython3",
   "version": "3.7.0"
  }
 },
 "nbformat": 4,
 "nbformat_minor": 2
}
