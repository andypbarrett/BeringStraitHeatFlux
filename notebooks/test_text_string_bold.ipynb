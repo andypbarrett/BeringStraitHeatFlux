{
 "cells": [
  {
   "cell_type": "code",
   "execution_count": 1,
   "metadata": {},
   "outputs": [],
   "source": [
    "windd = {'DJF': {'hi': [-1.5, -0.4, -0.3], 'lo': [-5.5,  1.4, -4.1],\n",
    "                  'hisig': [True,True,True], 'losig': [True,True,True]},\n",
    "         'MAM': {'hi': [-0.8, -1.4,  0.1], 'lo': [-5.2, -0.2, -3.3],\n",
    "                 'hisig': [True,True,True], 'losig': [True,False,True]},\n",
    "         'JJA': {'hi': [-0.2, -1.4,  0.6], 'lo': [-0.7,  1.6, -0.2],\n",
    "                 'hisig': [False,True,False], 'losig': [False,True,True]},\n",
    "         'SON': {'hi': [-1.6, -1.8, -0.3], 'lo': [-4.1,  1.3, -2.5],\n",
    "                 'hisig': [True,True,True], 'losig': [True,True,True]}}"
   ]
  },
  {
   "cell_type": "code",
   "execution_count": 18,
   "metadata": {},
   "outputs": [],
   "source": [
    "windspd = windd['MAM']['lo']\n",
    "windsig = windd['MAM']['losig']\n",
    "fmtstr = ['V(BS)={:4.1f}', 'U(ESS)={:4.1f}', 'U(BSS)={:4.1f}']"
   ]
  },
  {
   "cell_type": "code",
   "execution_count": 16,
   "metadata": {},
   "outputs": [],
   "source": [
    "def make_title(windspd, windsig, fmtstr):\n",
    "    \"\"\"\n",
    "    Generates title for composite plots showing\n",
    "    significant composite windspeeds in bold\n",
    "    \"\"\"\n",
    "    strarr = []\n",
    "    for spd, sig, fmt in zip(windspd,windsig,fmtstr):\n",
    "        if sig:\n",
    "            strarr.append(r\"$\\bf{\"+fmt.format(spd)+\"}$\")\n",
    "        else:\n",
    "            strarr.append(fmt.format(spd))\n",
    "    return ', '.join(strarr)"
   ]
  },
  {
   "cell_type": "code",
   "execution_count": 20,
   "metadata": {},
   "outputs": [
    {
     "data": {
      "image/png": "[encoded data removed]",
      "text/plain": [
       "<matplotlib.figure.Figure at 0x8b60fd0>"
      ]
     },
     "metadata": {},
     "output_type": "display_data"
    }
   ],
   "source": [
    "import matplotlib.pyplot as plt\n",
    "\n",
    "ax = plt.subplot()\n",
    "ax.set_title(make_title(windspd,windsig,fmtstr))\n",
    "plt.show()"
   ]
  },
  {
   "cell_type": "code",
   "execution_count": null,
   "metadata": {},
   "outputs": [],
   "source": []
  }
 ],
 "metadata": {
  "kernelspec": {
   "display_name": "Python 3",
   "language": "python",
   "name": "python3"
  },
  "language_info": {
   "codemirror_mode": {
    "name": "ipython",
    "version": 3
   },
   "file_extension": ".py",
   "mimetype": "text/x-python",
   "name": "python",
   "nbconvert_exporter": "python",
   "pygments_lexer": "ipython3",
   "version": "3.6.4"
  }
 },
 "nbformat": 4,
 "nbformat_minor": 2
}
