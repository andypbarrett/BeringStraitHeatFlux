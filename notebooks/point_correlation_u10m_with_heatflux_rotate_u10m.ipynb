{
 "cells": [
  {
   "cell_type": "code",
   "execution_count": null,
   "metadata": {},
   "outputs": [],
   "source": [
    "%matplotlib inline"
   ]
  },
  {
   "cell_type": "code",
   "execution_count": null,
   "metadata": {},
   "outputs": [],
   "source": [
    "import pandas as pd\n",
    "import os\n",
    "import xarray as xr\n",
    "import matplotlib.path as mpath\n",
    "import matplotlib.pyplot as plt\n",
    "import numpy as np\n",
    "\n",
    "import sys\n",
    "sys.path.append('../source')\n",
    "\n",
    "from pandas.plotting import register_matplotlib_converters\n",
    "from constants import MOORING_DIRPATH, REANALYSIS_DIRPATH"
   ]
  },
  {
   "cell_type": "code",
   "execution_count": null,
   "metadata": {},
   "outputs": [],
   "source": [
    "def read_bs(fili):\n",
    "    \"\"\"\n",
    "    Reads text file containing Bering Strait flux data into Pandas DataFrame\n",
    "    \"\"\"\n",
    "    df = pd.read_csv(fili, header=None, comment='%',sep='\\s+', \n",
    "                 names=['Mooring', 'Year', 'Month', 'Mean', 'Error', 'MeanCorr', 'CorrErr'],\n",
    "                 parse_dates={'time': ['Year', 'Month']}, index_col='time')\n",
    "    return df"
   ]
  },
  {
   "cell_type": "markdown",
   "metadata": {},
   "source": [
    "## Read Bearing Strait heat flux and convert to DataArray"
   ]
  },
  {
   "cell_type": "code",
   "execution_count": null,
   "metadata": {},
   "outputs": [],
   "source": [
    "#diri = r'C:\\Users\\apbarret\\Documents\\data\\BeringStraitHeatFlux'\n",
    "#diri = '/home/apbarret/data/BeringStraitHeatFlux/Mooring'\n",
    "fili = r'BeringStrait_Monthlymeans_TRANSPORT_Oct2017.txt'\n",
    "df = read_bs(os.path.join(MOORING_DIRPATH, 'Month', fili))\n",
    "heat = xr.DataArray.from_series(df['MeanCorr'])"
   ]
  },
  {
   "cell_type": "code",
   "execution_count": null,
   "metadata": {},
   "outputs": [],
   "source": [
    "fig, ax = plt.subplots(figsize=(10,5))\n",
    "heat.plot(ax=ax)\n",
    "ax.set_title('Bearing Strait Transport Flux')\n",
    "ax.set_ylabel('TW')"
   ]
  },
  {
   "cell_type": "markdown",
   "metadata": {},
   "source": [
    "## Get winds"
   ]
  },
  {
   "cell_type": "code",
   "execution_count": null,
   "metadata": {},
   "outputs": [],
   "source": [
    "#reanalysis_dir = '/disks/arctic5_raid/abarrett/MERRA2/monthly'\n",
    "ncfile = 'MERRA2_400.instM_2d_asm_Nx.U10M.month.1980to2018.nc4'\n",
    "u10m = xr.open_dataset(os.path.join(REANALYSIS_DIRPATH, 'U10M', ncfile))\n",
    "u10m = u10m['U10M'].loc[dict(time=slice('1990-01-01','2017-12-01'), lat=slice(20,90))]\n",
    "\n",
    "#reanalysis_dir = '/disks/arctic5_raid/abarrett/MERRA2/monthly'\n",
    "ncfile = 'MERRA2_400.instM_2d_asm_Nx.V10M.month.1980to2018.nc4'\n",
    "v10m = xr.open_dataset(os.path.join(REANALYSIS_DIRPATH, 'V10M', ncfile))\n",
    "v10m = v10m['V10M'].loc[dict(time=slice('1990-01-01','2017-12-01'), lat=slice(20,90))]\n",
    "\n",
    "print (u10m)\n",
    "print (v10m)"
   ]
  },
  {
   "cell_type": "markdown",
   "metadata": {},
   "source": [
    "## Rotate winds relative to 330 deg. N\n",
    "\n",
    "I use affine for this.  Affine.rotation returns a rotation matrix.  This can then be used to post-multiply a tuple of u and v winds"
   ]
  },
  {
   "cell_type": "code",
   "execution_count": null,
   "metadata": {},
   "outputs": [],
   "source": [
    "from affine import Affine\n",
    "\n",
    "relative_wind_direction = 330.\n",
    "fwd = Affine.rotation(relative_wind_direction)\n",
    "u10m_rot, v10m_rot = (u10m, v10m)*fwd"
   ]
  },
  {
   "cell_type": "markdown",
   "metadata": {},
   "source": [
    "## Calculate correlation coeficient\n",
    "I haven't figured out how to do this in one fell swoop, so I do it in several steps.\n",
    "1. Calculate anomaly time series in time dimensions for U10M and heat flux\n",
    "2. Calculate gridcell covariances between the two data sets\n",
    "3. Calculate standard deviations for the two data sets\n",
    "4. Calculate correlation coeficients for each grid cell"
   ]
  },
  {
   "cell_type": "markdown",
   "metadata": {},
   "source": [
    "### Step 0.  Remove months with missing data (NaNs)"
   ]
  },
  {
   "cell_type": "code",
   "execution_count": null,
   "metadata": {},
   "outputs": [],
   "source": [
    "heat = heat.dropna(dim='time')\n",
    "u10m_rot = u10m_rot.where(xr.ufuncs.isfinite(heat), drop=True)"
   ]
  },
  {
   "cell_type": "markdown",
   "metadata": {},
   "source": [
    "### Step 1.  Calculate anomaly time series"
   ]
  },
  {
   "cell_type": "code",
   "execution_count": null,
   "metadata": {},
   "outputs": [],
   "source": [
    "def anomaly(x, dim=None):\n",
    "    return x - x.mean(dim=dim)"
   ]
  },
  {
   "cell_type": "code",
   "execution_count": null,
   "metadata": {},
   "outputs": [],
   "source": [
    "heatAnom = heat.groupby('time.month').apply(anomaly)\n",
    "u10m_rotAnom = u10m_rot.groupby('time.month').apply(anomaly, dim='time')"
   ]
  },
  {
   "cell_type": "markdown",
   "metadata": {},
   "source": [
    "### Step 2. Calculate covariance"
   ]
  },
  {
   "cell_type": "code",
   "execution_count": null,
   "metadata": {},
   "outputs": [],
   "source": [
    "cov = (u10m_rotAnom * heatAnom).groupby('time.month').mean(dim='time')"
   ]
  },
  {
   "cell_type": "markdown",
   "metadata": {},
   "source": [
    "### Step 3. Calculate standard deviations"
   ]
  },
  {
   "cell_type": "code",
   "execution_count": null,
   "metadata": {},
   "outputs": [],
   "source": [
    "heatStd = heat.groupby('time.month').std(dim='time')\n",
    "u10m_rotStd = u10m_rot.groupby('time.month').std(dim='time')"
   ]
  },
  {
   "cell_type": "code",
   "execution_count": null,
   "metadata": {},
   "outputs": [],
   "source": [
    "print (cov.shape)\n",
    "print (heatStd.shape)\n",
    "print (u10m_rotStd.shape)"
   ]
  },
  {
   "cell_type": "markdown",
   "metadata": {},
   "source": [
    "### Step 4. Calculate correlation coeficient"
   ]
  },
  {
   "cell_type": "code",
   "execution_count": null,
   "metadata": {},
   "outputs": [],
   "source": [
    "corrcoef = cov / (heatStd * u10m_rotStd)"
   ]
  },
  {
   "cell_type": "code",
   "execution_count": null,
   "metadata": {},
   "outputs": [],
   "source": [
    "from scipy import stats\n",
    "\n",
    "# calculate t-statistic\n",
    "n = heat.groupby('time.month').count()\n",
    "dgf = np.sqrt(n - 2)\n",
    "den = np.sqrt(1 - (corrcoef*corrcoef))\n",
    "t = corrcoef*dgf / den\n",
    "\n",
    "p = 1 - stats.t.cdf(np.abs(t), 21)\n",
    "r = corrcoef.where(2*p < 0.05)"
   ]
  },
  {
   "cell_type": "markdown",
   "metadata": {},
   "source": [
    "## Plot results"
   ]
  },
  {
   "cell_type": "code",
   "execution_count": null,
   "metadata": {},
   "outputs": [],
   "source": [
    "import cartopy.crs as ccrs\n",
    "import cartopy.feature as cfeature\n",
    "import matplotlib as mpl"
   ]
  },
  {
   "cell_type": "code",
   "execution_count": null,
   "metadata": {},
   "outputs": [],
   "source": [
    "r"
   ]
  },
  {
   "cell_type": "code",
   "execution_count": null,
   "metadata": {},
   "outputs": [],
   "source": [
    "fig = plt.figure(figsize=(12, 9))\n",
    "\n",
    "land = cfeature.NaturalEarthFeature('physical', 'land', '110m', edgecolor='k', facecolor=0.5)\n",
    "\n",
    "cmap = plt.get_cmap('coolwarm')\n",
    "norm = mpl.colors.Normalize(vmin=-1., vmax=1.)\n",
    "\n",
    "ax = []\n",
    "monthstr = ['Jan', 'Feb', 'Mar', 'Apr', 'May', 'Jun', 'Jul', 'Aug', 'Sep', 'Oct', 'Nov', 'Dec']\n",
    "square = mpath.Path([[0.,1.],[0.8,1.],[0.8,0.2],[0.,0.2]])  # Boundary to crop map\n",
    "\n",
    "for i, mstr in enumerate(monthstr):\n",
    "        \n",
    "    ax.append( plt.subplot(3, 4, i+1, projection=ccrs.NorthPolarStereo()) )\n",
    "    \n",
    "    ax[i].set_extent([-180.,180.,55.,90.], ccrs.PlateCarree())\n",
    "    #cax = r.isel(month=i).plot(ax=ax[i], transform=ccrs.PlateCarree(), add_colorbar=False, \n",
    "    #                           norm=norm, cmap=cmap)\n",
    "    ax[i].contourf(r.lon, r.lat, r.isel(month=i), transform=ccrs.PlateCarree(), \n",
    "                    norm=norm, cmap=cmap)\n",
    "    #ax[i].pcolormesh(r.lon, r.lat, r.isel(month=i), transform=ccrs.PlateCarree(), \n",
    "    #                norm=norm, cmap=cmap, clip_path=(square, ax[i].transAxes))\n",
    "    ax[i].coastlines()\n",
    "    #ax[i].add_feature(land, zorder=1)\n",
    "    ax[i].set_title(mstr)\n",
    "\n",
    "    #ax[i].set_boundary(square, transform=ax[i].transAxes)\n",
    "\n",
    "axc = fig.add_axes([0.2, 0.05, 0.6, 0.03])\n",
    "cbar = mpl.colorbar.ColorbarBase(axc, orientation='horizontal', norm=norm, cmap=cmap)\n",
    "\n",
    "#fig.savefig(os.path.join(diri,'MERRA2_U10M_BSTrans_Correlation_Month_rot330.png'))\n",
    "#ax.add_feature(cfeature.LAND, zorder=1, facecolor=0.3)"
   ]
  },
  {
   "cell_type": "code",
   "execution_count": null,
   "metadata": {},
   "outputs": [],
   "source": []
  }
 ],
 "metadata": {
  "kernelspec": {
   "display_name": "Python 3",
   "language": "python",
   "name": "python3"
  },
  "language_info": {
   "codemirror_mode": {
    "name": "ipython",
    "version": 3
   },
   "file_extension": ".py",
   "mimetype": "text/x-python",
   "name": "python",
   "nbconvert_exporter": "python",
   "pygments_lexer": "ipython3",
   "version": "3.7.3"
  }
 },
 "nbformat": 4,
 "nbformat_minor": 2
}
