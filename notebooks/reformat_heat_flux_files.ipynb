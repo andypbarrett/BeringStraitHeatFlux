{
 "cells": [
  {
   "cell_type": "code",
   "execution_count": 1,
   "metadata": {},
   "outputs": [
    {
     "name": "stdout",
     "output_type": "stream",
     "text": [
      "Populating the interactive namespace from numpy and matplotlib\n"
     ]
    }
   ],
   "source": [
    "%pylab inline"
   ]
  },
  {
   "cell_type": "code",
   "execution_count": 4,
   "metadata": {},
   "outputs": [],
   "source": [
    "import pandas as pd\n",
    "import os"
   ]
  },
  {
   "cell_type": "code",
   "execution_count": 8,
   "metadata": {},
   "outputs": [],
   "source": [
    "diri = r'C:\\Users\\apbarret\\Documents\\data\\BeringStraitHeatFlux'\n",
    "fili = r'BeringStrait_Monthlymeans_Temperature_Oct2017.txt'\n",
    "df = pd.read_csv(os.path.join(diri, fili), header=None, comment='%',sep='\\s+', #skiprows=55,\n",
    "                 names=['Mooring', 'Year', 'Month', 'Mean', 'Error', 'MeanCorr', 'CorrErr']) #,\n",
    "#                 parse_dates={'date': ['Year', 'Month']}, index_col='date')\n",
    "df.pivot(index='Year', columns='Month', values='Mean').to_csv(os.path.join(diri,'BeringStrait_Monthlymeans_Temperature_Oct2017_table.csv'))"
   ]
  },
  {
   "cell_type": "code",
   "execution_count": null,
   "metadata": {},
   "outputs": [],
   "source": []
  }
 ],
 "metadata": {
  "kernelspec": {
   "display_name": "Python 3",
   "language": "python",
   "name": "python3"
  },
  "language_info": {
   "codemirror_mode": {
    "name": "ipython",
    "version": 3
   },
   "file_extension": ".py",
   "mimetype": "text/x-python",
   "name": "python",
   "nbconvert_exporter": "python",
   "pygments_lexer": "ipython3",
   "version": "3.6.4"
  }
 },
 "nbformat": 4,
 "nbformat_minor": 2
}
